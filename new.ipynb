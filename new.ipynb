{
 "cells": [
  {
   "cell_type": "markdown",
   "metadata": {},
   "source": [
    "# Implementing gradient descent"
   ]
  },
  {
   "cell_type": "code",
   "execution_count": 89,
   "metadata": {},
   "outputs": [
    {
     "name": "stdout",
     "output_type": "stream",
     "text": [
      "Requirement already satisfied: numpy in /Users/isaacadoboe/miniconda3/envs/ml_env/lib/python3.8/site-packages (1.24.3)\n",
      "Note: you may need to restart the kernel to use updated packages.\n"
     ]
    }
   ],
   "source": [
    "%pip install numpy"
   ]
  },
  {
   "cell_type": "code",
   "execution_count": 90,
   "metadata": {},
   "outputs": [],
   "source": [
    "import numpy as np\n",
    "\n",
    "np.random.seed(1)  # for reproducible results"
   ]
  },
  {
   "cell_type": "code",
   "execution_count": 125,
   "metadata": {},
   "outputs": [],
   "source": [
    "N = 100  # Number of samples\n",
    "X = 5 * np.random.rand(N, 1)  # Feature vectors\n",
    "y = 2 * X + 1 + np.random.randn(N, 1)  # Labels (slope = 2, intercept = 1)\n",
    "\n",
    "X_b = np.c_[X, np.ones((N, 1))]  # Append 1 to each feature vector"
   ]
  },
  {
   "cell_type": "code",
   "execution_count": 92,
   "metadata": {},
   "outputs": [],
   "source": [
    "# Gradient descent\n",
    "eta = 0.1  # learning rate\n",
    "n_iters = 1000  # Number of iterations\n",
    "\n",
    "theta = np.random.randn(2, 1)  # Random initialization of weights\n",
    "\n",
    "for i in range(n_iters):\n",
    "    grad_loss = 2 / N * X_b.T @ (X_b @ theta - y)\n",
    "    theta -= eta * grad_loss"
   ]
  },
  {
   "cell_type": "code",
   "execution_count": 93,
   "metadata": {},
   "outputs": [
    {
     "name": "stdout",
     "output_type": "stream",
     "text": [
      "theta: [[1.93698502]\n",
      " [1.23695725]]\n"
     ]
    }
   ],
   "source": [
    "print(f\"theta: {theta}\")"
   ]
  },
  {
   "cell_type": "code",
   "execution_count": 94,
   "metadata": {},
   "outputs": [
    {
     "data": {
      "text/plain": [
       "array([[1.93698502],\n",
       "       [1.23695725]])"
      ]
     },
     "execution_count": 94,
     "metadata": {},
     "output_type": "execute_result"
    }
   ],
   "source": [
    "theta"
   ]
  },
  {
   "cell_type": "markdown",
   "metadata": {},
   "source": [
    "We can do better by checking the difference between iterations"
   ]
  },
  {
   "cell_type": "code",
   "execution_count": 152,
   "metadata": {},
   "outputs": [
    {
     "name": "stdout",
     "output_type": "stream",
     "text": [
      "Converged after 115 iterations.\n",
      "theta:  [[1.94579929]\n",
      " [1.11810325]]\n"
     ]
    }
   ],
   "source": [
    "# Gradient descent\n",
    "eta = 0.1  # learning rate\n",
    "n_iters = 1000  # Number of iterations\n",
    "\n",
    "theta = np.random.randn(2, 1)  # Random initialization of weights\n",
    "\n",
    "# Gradient descent loop\n",
    "for iteration in range(n_iters):\n",
    "    # Calculate gradient of the loss function\n",
    "    grad_loss = (2 / N) * X_b.T @ (X_b @ theta - y)\n",
    "\n",
    "    # Update theta\n",
    "    new_theta = theta - eta * grad_loss\n",
    "\n",
    "    # Check for convergence (change in theta is below tolerance)\n",
    "    if np.linalg.norm(new_theta - theta, ord=2) < 0.001:\n",
    "        print(f\"Converged after {iteration + 1} iterations.\")\n",
    "        break\n",
    "\n",
    "    # Update theta\n",
    "    theta = new_theta\n",
    "\n",
    "print(\"theta: \", theta)"
   ]
  },
  {
   "cell_type": "markdown",
   "metadata": {},
   "source": [
    "### Let's try to implement mini-batch gradient descent"
   ]
  },
  {
   "cell_type": "code",
   "execution_count": 163,
   "metadata": {},
   "outputs": [
    {
     "name": "stdout",
     "output_type": "stream",
     "text": [
      "[[2.01916391]\n",
      " [0.86262257]]\n"
     ]
    }
   ],
   "source": [
    "eta_0, eta_1 = 0.1, 0.01  # Learning rate scheduler\n",
    "\n",
    "\n",
    "def lr(t):\n",
    "    return (1 - t) * eta_0 + t * eta_1\n",
    "\n",
    "\n",
    "theta = np.random.randn(2, 1)\n",
    "\n",
    "epochs = 50\n",
    "batch_size = 10\n",
    "batches_per_epoch = np.int32(N / batch_size)\n",
    "\n",
    "for epoch in range(epochs):\n",
    "    for iteration in range(batches_per_epoch):\n",
    "        idx = np.random.choice(N, size=batch_size, replace=False)\n",
    "        xt, yt = X_b[idx], y[idx]\n",
    "        grad_loss = (2 / N) * xt.T @ (xt @ theta - yt)\n",
    "        eta = lr((epoch * batches_per_epoch + 1) / (epochs * batches_per_epoch))\n",
    "        theta -= eta * grad_loss\n",
    "\n",
    "print(theta)"
   ]
  },
  {
   "cell_type": "markdown",
   "metadata": {},
   "source": [
    "## Let's try our hands on a MNIST classifier"
   ]
  },
  {
   "cell_type": "code",
   "execution_count": null,
   "metadata": {},
   "outputs": [],
   "source": []
  },
  {
   "cell_type": "markdown",
   "metadata": {},
   "source": [
    "## Classification problem"
   ]
  },
  {
   "cell_type": "code",
   "execution_count": 54,
   "metadata": {},
   "outputs": [],
   "source": [
    "# Import necessary libraries\n",
    "import numpy as np\n",
    "import pandas as pd\n",
    "import matplotlib.pyplot as plt\n",
    "import tensorflow as tf\n",
    "from sklearn.datasets import make_classification\n",
    "from sklearn.model_selection import train_test_split\n",
    "from sklearn.metrics import accuracy_score, recall_score, precision_score"
   ]
  },
  {
   "cell_type": "code",
   "execution_count": 26,
   "metadata": {},
   "outputs": [
    {
     "name": "stdout",
     "output_type": "stream",
     "text": [
      "Epoch 1/20\n",
      "40/40 [==============================] - 0s 3ms/step - loss: 0.5733 - acc: 0.6062 - val_loss: 0.5405 - val_acc: 0.8062\n",
      "Epoch 2/20\n",
      "40/40 [==============================] - 0s 897us/step - loss: 0.4976 - acc: 0.8344 - val_loss: 0.4809 - val_acc: 0.8438\n",
      "Epoch 3/20\n",
      "40/40 [==============================] - 0s 870us/step - loss: 0.4412 - acc: 0.8547 - val_loss: 0.4318 - val_acc: 0.8625\n",
      "Epoch 4/20\n",
      "40/40 [==============================] - 0s 856us/step - loss: 0.3973 - acc: 0.8594 - val_loss: 0.3915 - val_acc: 0.8687\n",
      "Epoch 5/20\n",
      "40/40 [==============================] - 0s 868us/step - loss: 0.3652 - acc: 0.8641 - val_loss: 0.3673 - val_acc: 0.8750\n",
      "Epoch 6/20\n",
      "40/40 [==============================] - 0s 823us/step - loss: 0.3470 - acc: 0.8672 - val_loss: 0.3498 - val_acc: 0.8750\n",
      "Epoch 7/20\n",
      "40/40 [==============================] - 0s 832us/step - loss: 0.3353 - acc: 0.8703 - val_loss: 0.3359 - val_acc: 0.8875\n",
      "Epoch 8/20\n",
      "40/40 [==============================] - 0s 848us/step - loss: 0.3293 - acc: 0.8687 - val_loss: 0.3274 - val_acc: 0.8938\n",
      "Epoch 9/20\n",
      "40/40 [==============================] - 0s 905us/step - loss: 0.3246 - acc: 0.8719 - val_loss: 0.3220 - val_acc: 0.8938\n",
      "Epoch 10/20\n",
      "40/40 [==============================] - 0s 836us/step - loss: 0.3219 - acc: 0.8719 - val_loss: 0.3227 - val_acc: 0.8875\n",
      "Epoch 11/20\n",
      "40/40 [==============================] - 0s 785us/step - loss: 0.3181 - acc: 0.8750 - val_loss: 0.3275 - val_acc: 0.8875\n",
      "Epoch 12/20\n",
      "40/40 [==============================] - 0s 927us/step - loss: 0.3187 - acc: 0.8719 - val_loss: 0.3207 - val_acc: 0.8875\n",
      "Epoch 13/20\n",
      "40/40 [==============================] - 0s 1ms/step - loss: 0.3170 - acc: 0.8703 - val_loss: 0.3224 - val_acc: 0.8875\n",
      "Epoch 14/20\n",
      "40/40 [==============================] - 0s 976us/step - loss: 0.3157 - acc: 0.8719 - val_loss: 0.3159 - val_acc: 0.8875\n",
      "Epoch 15/20\n",
      "40/40 [==============================] - 0s 887us/step - loss: 0.3149 - acc: 0.8734 - val_loss: 0.3156 - val_acc: 0.8875\n",
      "Epoch 16/20\n",
      "40/40 [==============================] - 0s 903us/step - loss: 0.3142 - acc: 0.8750 - val_loss: 0.3189 - val_acc: 0.8875\n",
      "Epoch 17/20\n",
      "40/40 [==============================] - 0s 892us/step - loss: 0.3127 - acc: 0.8781 - val_loss: 0.3147 - val_acc: 0.8938\n",
      "Epoch 18/20\n",
      "40/40 [==============================] - 0s 849us/step - loss: 0.3122 - acc: 0.8750 - val_loss: 0.3169 - val_acc: 0.8875\n",
      "Epoch 19/20\n",
      "40/40 [==============================] - 0s 883us/step - loss: 0.3119 - acc: 0.8750 - val_loss: 0.3104 - val_acc: 0.8875\n",
      "Epoch 20/20\n",
      "40/40 [==============================] - 0s 856us/step - loss: 0.3115 - acc: 0.8750 - val_loss: 0.3137 - val_acc: 0.8875\n",
      "Model: \"model_14\"\n",
      "_________________________________________________________________\n",
      " Layer (type)                Output Shape              Param #   \n",
      "=================================================================\n",
      " input_15 (InputLayer)       [(None, 4)]               0         \n",
      "                                                                 \n",
      " dense_42 (Dense)            (None, 16)                80        \n",
      "                                                                 \n",
      " dense_43 (Dense)            (None, 16)                272       \n",
      "                                                                 \n",
      " dense_44 (Dense)            (None, 1)                 17        \n",
      "                                                                 \n",
      "=================================================================\n",
      "Total params: 369 (1.44 KB)\n",
      "Trainable params: 369 (1.44 KB)\n",
      "Non-trainable params: 0 (0.00 Byte)\n",
      "_________________________________________________________________\n",
      "7/7 [==============================] - 0s 562us/step\n",
      "\n",
      "The accuracy score of the prediction is: 0.815\n",
      "\n",
      "The recall score of the prediction is: 0.87\n",
      "\n",
      "The precision score of the prediction is: 0.76\n"
     ]
    }
   ],
   "source": [
    "# Generate a synthetic dataset for binary classification\n",
    "# n_samples: Number of samples\n",
    "# n_features: Number of features\n",
    "# n_classes: Number of target classes (binary in this case)\n",
    "X, y = make_classification(n_samples=1000, n_features=4, n_classes=2, random_state=1)\n",
    "\n",
    "# Split the dataset into training and testing sets\n",
    "# test_size: Fraction of the data reserved for testing\n",
    "# shuffle: Shuffle the data before splitting\n",
    "X_train, X_test, y_train, y_test = train_test_split(X, y, test_size=0.2, shuffle=True)\n",
    "\n",
    "# Build a neural network model\n",
    "# Input layer specifying the shape of input data (4 features in this case)\n",
    "inp = tf.keras.layers.Input(shape=(4,))\n",
    "\n",
    "# Hidden layer 1: Dense layer with 16 neurons and ReLU activation function\n",
    "x = tf.keras.layers.Dense(16, activation=\"relu\")(inp)\n",
    "\n",
    "# Hidden layer 2: Another Dense layer with 16 neurons and ReLU activation\n",
    "x = tf.keras.layers.Dense(16, activation=\"relu\")(x)\n",
    "\n",
    "# Output layer: Dense layer with 1 neuron and sigmoid activation function\n",
    "# Sigmoid is used to produce a probability output (between 0 and 1)\n",
    "out = tf.keras.layers.Dense(1, activation=\"sigmoid\")(x)\n",
    "\n",
    "# Define the model\n",
    "# The model takes `inp` as input and produces `out` as output\n",
    "model = tf.keras.Model(inp, out)\n",
    "\n",
    "# Compile the model\n",
    "# Loss function: Binary cross-entropy, used for binary classification tasks\n",
    "# Metrics: Accuracy, to evaluate the model's performance during training\n",
    "model.compile(loss=\"binary_crossentropy\", metrics=\"acc\")\n",
    "\n",
    "# Train the model\n",
    "# validation_split: Reserve 20% of the training data for validation\n",
    "# batch_size: Number of samples per batch\n",
    "# epochs: Number of times the model will go through the entire training dataset\n",
    "history = model.fit(X_train, y_train, validation_split=0.2, batch_size=16, epochs=20)\n",
    "\n",
    "# Print the model's summary, which shows the architecture and number of parameters\n",
    "model.summary()\n",
    "\n",
    "# Predict probabilities for the test set\n",
    "# The model outputs probabilities between 0 and 1 due to the sigmoid activation in the output layer\n",
    "y_pred_prob = model.predict(X_test)\n",
    "\n",
    "# Convert probabilities to binary predictions (0 or 1) using a threshold of 0.5\n",
    "y_pred = np.round(y_pred_prob)\n",
    "\n",
    "# Evaluate the model's performance\n",
    "# Accuracy: Fraction of correctly classified samples\n",
    "accuracy = accuracy_score(y_test, y_pred)\n",
    "\n",
    "# Recall: Proportion of true positives correctly identified\n",
    "recall = recall_score(y_test, y_pred)\n",
    "\n",
    "# Precision: Proportion of predicted positives that are actually true positives\n",
    "precision = precision_score(y_test, y_pred)\n",
    "\n",
    "# Print evaluation metrics\n",
    "print(f\"\\nThe accuracy score of the prediction is: {accuracy}\")\n",
    "print(f\"\\nThe recall score of the prediction is: {recall:.2f}\")\n",
    "print(f\"\\nThe precision score of the prediction is: {precision:.2f}\")"
   ]
  },
  {
   "cell_type": "code",
   "execution_count": 41,
   "metadata": {},
   "outputs": [
    {
     "data": {
      "text/html": [
       "<div>\n",
       "<style scoped>\n",
       "    .dataframe tbody tr th:only-of-type {\n",
       "        vertical-align: middle;\n",
       "    }\n",
       "\n",
       "    .dataframe tbody tr th {\n",
       "        vertical-align: top;\n",
       "    }\n",
       "\n",
       "    .dataframe thead th {\n",
       "        text-align: right;\n",
       "    }\n",
       "</style>\n",
       "<table border=\"1\" class=\"dataframe\">\n",
       "  <thead>\n",
       "    <tr style=\"text-align: right;\">\n",
       "      <th></th>\n",
       "      <th>loss</th>\n",
       "      <th>acc</th>\n",
       "      <th>val_loss</th>\n",
       "      <th>val_acc</th>\n",
       "      <th>epoch</th>\n",
       "    </tr>\n",
       "  </thead>\n",
       "  <tbody>\n",
       "    <tr>\n",
       "      <th>15</th>\n",
       "      <td>0.314197</td>\n",
       "      <td>0.875000</td>\n",
       "      <td>0.318884</td>\n",
       "      <td>0.88750</td>\n",
       "      <td>15</td>\n",
       "    </tr>\n",
       "    <tr>\n",
       "      <th>16</th>\n",
       "      <td>0.312722</td>\n",
       "      <td>0.878125</td>\n",
       "      <td>0.314654</td>\n",
       "      <td>0.89375</td>\n",
       "      <td>16</td>\n",
       "    </tr>\n",
       "    <tr>\n",
       "      <th>17</th>\n",
       "      <td>0.312178</td>\n",
       "      <td>0.875000</td>\n",
       "      <td>0.316888</td>\n",
       "      <td>0.88750</td>\n",
       "      <td>17</td>\n",
       "    </tr>\n",
       "    <tr>\n",
       "      <th>18</th>\n",
       "      <td>0.311869</td>\n",
       "      <td>0.875000</td>\n",
       "      <td>0.310426</td>\n",
       "      <td>0.88750</td>\n",
       "      <td>18</td>\n",
       "    </tr>\n",
       "    <tr>\n",
       "      <th>19</th>\n",
       "      <td>0.311509</td>\n",
       "      <td>0.875000</td>\n",
       "      <td>0.313663</td>\n",
       "      <td>0.88750</td>\n",
       "      <td>19</td>\n",
       "    </tr>\n",
       "  </tbody>\n",
       "</table>\n",
       "</div>"
      ],
      "text/plain": [
       "        loss       acc  val_loss  val_acc  epoch\n",
       "15  0.314197  0.875000  0.318884  0.88750     15\n",
       "16  0.312722  0.878125  0.314654  0.89375     16\n",
       "17  0.312178  0.875000  0.316888  0.88750     17\n",
       "18  0.311869  0.875000  0.310426  0.88750     18\n",
       "19  0.311509  0.875000  0.313663  0.88750     19"
      ]
     },
     "execution_count": 41,
     "metadata": {},
     "output_type": "execute_result"
    }
   ],
   "source": [
    "# Visualize the model's training progress using the stats stored in the history object\n",
    "hist = pd.DataFrame(history.history)\n",
    "hist[\"epoch\"] = history.epoch\n",
    "hist.tail()"
   ]
  },
  {
   "cell_type": "code",
   "execution_count": 53,
   "metadata": {},
   "outputs": [
    {
     "data": {
      "image/png": "[encoded data removed]",
      "text/plain": [
       "<Figure size 640x480 with 1 Axes>"
      ]
     },
     "metadata": {},
     "output_type": "display_data"
    }
   ],
   "source": [
    "def plot_loss(history):\n",
    "    plt.plot(history.history[\"loss\"], label=\"loss\")\n",
    "    plt.plot(history.history[\"val_loss\"], label=\"val_loss\")\n",
    "    plt.ylim([0, 0.6])\n",
    "    plt.xlabel(\"Epoch\")\n",
    "    plt.ylabel(\"Error\")\n",
    "    plt.legend()\n",
    "    plt.grid(True)\n",
    "\n",
    "\n",
    "plot_loss(history)"
   ]
  },
  {
   "cell_type": "markdown",
   "metadata": {},
   "source": [
    "## Regression problem"
   ]
  },
  {
   "cell_type": "code",
   "execution_count": 29,
   "metadata": {},
   "outputs": [
    {
     "name": "stdout",
     "output_type": "stream",
     "text": [
      "Epoch 1/20\n",
      "50/50 [==============================] - 0s 559us/step - loss: 20188.3340 - mse: 20188.3340\n",
      "Epoch 2/20\n",
      "50/50 [==============================] - 0s 527us/step - loss: 19935.7617 - mse: 19935.7617\n",
      "Epoch 3/20\n",
      "50/50 [==============================] - 0s 495us/step - loss: 19560.4453 - mse: 19560.4453\n",
      "Epoch 4/20\n",
      "50/50 [==============================] - 0s 449us/step - loss: 18988.4258 - mse: 18988.4258\n",
      "Epoch 5/20\n",
      "50/50 [==============================] - 0s 433us/step - loss: 18150.2461 - mse: 18150.2461\n",
      "Epoch 6/20\n",
      "50/50 [==============================] - 0s 434us/step - loss: 17091.6445 - mse: 17091.6445\n",
      "Epoch 7/20\n",
      "50/50 [==============================] - 0s 479us/step - loss: 15740.2217 - mse: 15740.2217\n",
      "Epoch 8/20\n",
      "50/50 [==============================] - 0s 495us/step - loss: 14106.6562 - mse: 14106.6562\n",
      "Epoch 9/20\n",
      "50/50 [==============================] - 0s 532us/step - loss: 12257.6533 - mse: 12257.6533\n",
      "Epoch 10/20\n",
      "50/50 [==============================] - 0s 518us/step - loss: 10237.9746 - mse: 10237.9746\n",
      "Epoch 11/20\n",
      "50/50 [==============================] - 0s 673us/step - loss: 8157.1411 - mse: 8157.1411\n",
      "Epoch 12/20\n",
      "50/50 [==============================] - 0s 677us/step - loss: 6158.1177 - mse: 6158.1177\n",
      "Epoch 13/20\n",
      "50/50 [==============================] - 0s 611us/step - loss: 4312.8369 - mse: 4312.8369\n",
      "Epoch 14/20\n",
      "50/50 [==============================] - 0s 665us/step - loss: 2796.3835 - mse: 2796.3835\n",
      "Epoch 15/20\n",
      "50/50 [==============================] - 0s 660us/step - loss: 1763.7288 - mse: 1763.7288\n",
      "Epoch 16/20\n",
      "50/50 [==============================] - 0s 2ms/step - loss: 964.6425 - mse: 964.6425\n",
      "Epoch 17/20\n",
      "50/50 [==============================] - 0s 529us/step - loss: 504.6299 - mse: 504.6299\n",
      "Epoch 18/20\n",
      "50/50 [==============================] - 0s 507us/step - loss: 310.5822 - mse: 310.5822\n",
      "Epoch 19/20\n",
      "50/50 [==============================] - 0s 556us/step - loss: 256.9739 - mse: 256.9739\n",
      "Epoch 20/20\n",
      "50/50 [==============================] - 0s 1ms/step - loss: 232.6831 - mse: 232.6831\n",
      "Model: \"model_18\"\n",
      "_________________________________________________________________\n",
      " Layer (type)                Output Shape              Param #   \n",
      "=================================================================\n",
      " input_19 (InputLayer)       [(None, 4)]               0         \n",
      "                                                                 \n",
      " dense_54 (Dense)            (None, 16)                80        \n",
      "                                                                 \n",
      " dense_55 (Dense)            (None, 16)                272       \n",
      "                                                                 \n",
      " dense_56 (Dense)            (None, 1)                 17        \n",
      "                                                                 \n",
      "=================================================================\n",
      "Total params: 369 (1.44 KB)\n",
      "Trainable params: 369 (1.44 KB)\n",
      "Non-trainable params: 0 (0.00 Byte)\n",
      "_________________________________________________________________\n",
      "7/7 [==============================] - 0s 539us/step\n"
     ]
    }
   ],
   "source": [
    "import tensorflow as tf\n",
    "from sklearn.datasets import make_regression\n",
    "from sklearn.model_selection import train_test_split\n",
    "from sklearn.metrics import accuracy_score\n",
    "\n",
    "X, y = make_regression(n_samples=1000, n_features=4, n_targets=1, random_state=1)\n",
    "\n",
    "X_train, X_test, y_train, y_test = train_test_split(X, y, test_size=0.2, shuffle=True)\n",
    "\n",
    "inp = tf.keras.layers.Input(shape=(4,))\n",
    "x = tf.keras.layers.Dense(16, activation=\"relu\")(inp)\n",
    "x = tf.keras.layers.Dense(16, activation=\"linear\")(x)\n",
    "out = tf.keras.layers.Dense(1)(x)\n",
    "\n",
    "model = tf.keras.Model(inp, out)\n",
    "\n",
    "model.compile(loss=\"mse\", metrics=[\"mse\"])\n",
    "\n",
    "model.fit(X_train, y_train, batch_size=16, epochs=20)\n",
    "\n",
    "model.summary()\n",
    "\n",
    "\n",
    "X_pred = model.predict(X_test)"
   ]
  }
 ],
 "metadata": {
  "kernelspec": {
   "display_name": "ml_env",
   "language": "python",
   "name": "python3"
  },
  "language_info": {
   "codemirror_mode": {
    "name": "ipython",
    "version": 3
   },
   "file_extension": ".py",
   "mimetype": "text/x-python",
   "name": "python",
   "nbconvert_exporter": "python",
   "pygments_lexer": "ipython3",
   "version": "3.8.20"
  }
 },
 "nbformat": 4,
 "nbformat_minor": 2
}
