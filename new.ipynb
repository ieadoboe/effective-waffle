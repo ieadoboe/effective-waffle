{
 "cells": [
  {
   "cell_type": "markdown",
   "metadata": {},
   "source": [
    "# Implementing gradient descent"
   ]
  },
  {
   "cell_type": "code",
   "execution_count": 89,
   "metadata": {},
   "outputs": [
    {
     "name": "stdout",
     "output_type": "stream",
     "text": [
      "Requirement already satisfied: numpy in /Users/isaacadoboe/miniconda3/envs/ml_env/lib/python3.8/site-packages (1.24.3)\n",
      "Note: you may need to restart the kernel to use updated packages.\n"
     ]
    }
   ],
   "source": [
    "%pip install numpy"
   ]
  },
  {
   "cell_type": "code",
   "execution_count": 90,
   "metadata": {},
   "outputs": [],
   "source": [
    "import numpy as np\n",
    "\n",
    "np.random.seed(1)  # for reproducible results"
   ]
  },
  {
   "cell_type": "code",
   "execution_count": 125,
   "metadata": {},
   "outputs": [],
   "source": [
    "N = 100  # Number of samples\n",
    "X = 5 * np.random.rand(N, 1)  # Feature vectors\n",
    "y = 2 * X + 1 + np.random.randn(N, 1)  # Labels (slope = 2, intercept = 1)\n",
    "\n",
    "X_b = np.c_[X, np.ones((N, 1))] # Append 1 to each feature vector"
   ]
  },
  {
   "cell_type": "code",
   "execution_count": 92,
   "metadata": {},
   "outputs": [],
   "source": [
    "# Gradient descent\n",
    "eta = 0.1  # learning rate\n",
    "n_iters = 1000  # Number of iterations\n",
    "\n",
    "theta = np.random.randn(2, 1)  # Random initialization of weights\n",
    "\n",
    "for i in range(n_iters):\n",
    "    grad_loss = 2/N * X_b.T @ (X_b @ theta - y)\n",
    "    theta -=  eta * grad_loss"
   ]
  },
  {
   "cell_type": "code",
   "execution_count": 93,
   "metadata": {},
   "outputs": [
    {
     "name": "stdout",
     "output_type": "stream",
     "text": [
      "theta: [[1.93698502]\n",
      " [1.23695725]]\n"
     ]
    }
   ],
   "source": [
    "print(f\"theta: {theta}\")"
   ]
  },
  {
   "cell_type": "code",
   "execution_count": 94,
   "metadata": {},
   "outputs": [
    {
     "data": {
      "text/plain": [
       "array([[1.93698502],\n",
       "       [1.23695725]])"
      ]
     },
     "execution_count": 94,
     "metadata": {},
     "output_type": "execute_result"
    }
   ],
   "source": [
    "theta\n"
   ]
  },
  {
   "cell_type": "markdown",
   "metadata": {},
   "source": [
    "We can do better by checking the difference between iterations"
   ]
  },
  {
   "cell_type": "code",
   "execution_count": 152,
   "metadata": {},
   "outputs": [
    {
     "name": "stdout",
     "output_type": "stream",
     "text": [
      "Converged after 115 iterations.\n",
      "theta:  [[1.94579929]\n",
      " [1.11810325]]\n"
     ]
    }
   ],
   "source": [
    "# Gradient descent\n",
    "eta = 0.1  # learning rate\n",
    "n_iters = 1000  # Number of iterations\n",
    "\n",
    "theta = np.random.randn(2, 1)  # Random initialization of weights\n",
    "    \n",
    "# Gradient descent loop\n",
    "for iteration in range(n_iters):\n",
    "    # Calculate gradient of the loss function\n",
    "    gradient = (2 / N) * X_b.T @ (X_b @ theta - y)\n",
    "    \n",
    "    # Update theta\n",
    "    new_theta = theta - eta * gradient\n",
    "\n",
    "    # Check for convergence (change in theta is below tolerance)\n",
    "    if np.linalg.norm(new_theta - theta, ord=2) < 0.001:\n",
    "        print(f\"Converged after {iteration + 1} iterations.\")\n",
    "        break\n",
    "    \n",
    "    # Update theta\n",
    "    theta = new_theta\n",
    "    \n",
    "print(\"theta: \", theta)"
   ]
  },
  {
   "cell_type": "code",
   "execution_count": 113,
   "metadata": {},
   "outputs": [
    {
     "data": {
      "text/plain": [
       "array([[1.93758384],\n",
       "       [1.23502891]])"
      ]
     },
     "execution_count": 113,
     "metadata": {},
     "output_type": "execute_result"
    }
   ],
   "source": []
  },
  {
   "cell_type": "code",
   "execution_count": 63,
   "metadata": {},
   "outputs": [
    {
     "data": {
      "text/plain": [
       "array([[0.],\n",
       "       [0.]])"
      ]
     },
     "execution_count": 63,
     "metadata": {},
     "output_type": "execute_result"
    }
   ],
   "source": [
    "np.zeros_like(theta)"
   ]
  }
 ],
 "metadata": {
  "kernelspec": {
   "display_name": "ml_env",
   "language": "python",
   "name": "python3"
  },
  "language_info": {
   "codemirror_mode": {
    "name": "ipython",
    "version": 3
   },
   "file_extension": ".py",
   "mimetype": "text/x-python",
   "name": "python",
   "nbconvert_exporter": "python",
   "pygments_lexer": "ipython3",
   "version": "3.8.20"
  }
 },
 "nbformat": 4,
 "nbformat_minor": 2
}
