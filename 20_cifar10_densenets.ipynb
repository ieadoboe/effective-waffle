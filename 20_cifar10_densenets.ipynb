{
 "cells": [
  {
   "cell_type": "markdown",
   "metadata": {},
   "source": [
    "# Densely Connected Convolutional Networks (DenseNets)"
   ]
  },
  {
   "cell_type": "code",
   "execution_count": 1,
   "metadata": {},
   "outputs": [],
   "source": [
    "# Import necessary libraries\n",
    "import numpy as np\n",
    "import pandas as pd\n",
    "import matplotlib.pyplot as plt\n",
    "import tensorflow as tf"
   ]
  },
  {
   "cell_type": "markdown",
   "metadata": {},
   "source": [
    "#### Main takeways of the DenseNet paper (https://github.com/liuzhuang13/DenseNet)\n",
    "\n",
    "- In contrast to ResNets, DenseNets never combine features through summation before they are passed into a layer. [$L$]\n",
    "- Instead, features are combined by concatenating them. $\\frac{L(L+1)}{2}$\n",
    "- \n",
    "- Improved flow of information\n",
    "- Easy to train\n",
    "- Have a regularizing effect.\n",
    "- Each layer has direct access to the gradients from the loss function and the originial input signal leading to an implicit deep supervision.\n",
    "- \n",
    "- Data Augmentation: Mirror/Shifting"
   ]
  },
  {
   "cell_type": "code",
   "execution_count": null,
   "metadata": {},
   "outputs": [],
   "source": []
  }
 ],
 "metadata": {
  "kernelspec": {
   "display_name": "deep12",
   "language": "python",
   "name": "python3"
  },
  "language_info": {
   "codemirror_mode": {
    "name": "ipython",
    "version": 3
   },
   "file_extension": ".py",
   "mimetype": "text/x-python",
   "name": "python",
   "nbconvert_exporter": "python",
   "pygments_lexer": "ipython3",
   "version": "3.12.9"
  }
 },
 "nbformat": 4,
 "nbformat_minor": 2
}
