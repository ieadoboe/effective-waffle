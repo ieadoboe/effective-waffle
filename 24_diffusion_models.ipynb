{
  "cells": [
    {
      "cell_type": "code",
      "source": [
        "!pip install astroNN"
      ],
      "metadata": {
        "id": "q9POzSe7ZTTK"
      },
      "execution_count": null,
      "outputs": []
    },
    {
      "cell_type": "code",
      "execution_count": null,
      "metadata": {
        "id": "7etDziHgl1Tl"
      },
      "outputs": [],
      "source": [
        "import tensorflow as tf\n",
        "import matplotlib.pyplot as plt\n",
        "import numpy as np\n",
        "from astroNN.datasets import load_galaxy10\n",
        "from sklearn.model_selection import train_test_split\n",
        "\n",
        "from tqdm import tqdm"
      ]
    },
    {
      "cell_type": "code",
      "source": [
        "images, labels = load_galaxy10()"
      ],
      "metadata": {
        "id": "Gnw939jpZof9"
      },
      "execution_count": null,
      "outputs": []
    },
    {
      "cell_type": "code",
      "source": [
        "# # To train the model faster, resize images to (64, 64)\n",
        "# (Note: If you want to train it even faster, resize to (32,32))\n",
        "images = tf.image.resize(images, (32, 32)).numpy()"
      ],
      "metadata": {
        "id": "5E7xkpAYSkhp"
      },
      "execution_count": null,
      "outputs": []
    },
    {
      "cell_type": "code",
      "source": [
        "x_train, x_test, _, _ = train_test_split(images, labels, test_size=0.2, random_state=42)"
      ],
      "metadata": {
        "id": "plWZdCCXSq5t"
      },
      "execution_count": null,
      "outputs": []
    },
    {
      "cell_type": "code",
      "source": [
        "# If the above takes too long, you could try it out with CIFAR-10 instead\n",
        "# (x_train, y_train), (x_test, y_test) = tf.keras.datasets.cifar10.load_data()"
      ],
      "metadata": {
        "id": "86x5GCsSUPBa"
      },
      "execution_count": null,
      "outputs": []
    },
    {
      "cell_type": "code",
      "execution_count": null,
      "metadata": {
        "id": "tKTi_lb9zRSS"
      },
      "outputs": [],
      "source": [
        "# Normalize the training images to range [-1,1]\n",
        "x_train = 2*x_train / 255. - 1"
      ]
    },
    {
      "cell_type": "markdown",
      "source": [
        "## Generator architecture definition"
      ],
      "metadata": {
        "id": "00atkSYbUa8s"
      }
    },
    {
      "cell_type": "markdown",
      "source": [
        "### This is the architecture we use"
      ],
      "metadata": {
        "id": "-9tVps-rUiSs"
      }
    },
    {
      "cell_type": "code",
      "execution_count": null,
      "metadata": {
        "id": "up9dypuOYqnu"
      },
      "outputs": [],
      "source": [
        "class PositionalEncoding(tf.keras.layers.Layer):\n",
        "  def __init__(self, channels):\n",
        "    super(PositionalEncoding, self).__init__()\n",
        "    self.channels = channels\n",
        "\n",
        "  def call(self, inputs):\n",
        "\n",
        "    # Step 1: Inputs will have to be of shape (Batch, 1, 1, 1)\n",
        "\n",
        "    # Step 2: Compute inverse frequency based on channel indices\n",
        "\n",
        "    # Step 3: Compute sine and cosine embeddings and concatenate them\n",
        "    pos_sin = ...\n",
        "    pos_cos = ...\n",
        "    pos_enc = ...\n",
        "\n",
        "    return pos_enc"
      ]
    },
    {
      "cell_type": "code",
      "execution_count": null,
      "metadata": {
        "id": "OnAFlQKqlmsJ"
      },
      "outputs": [],
      "source": [
        "class ConvolutionalBlock(tf.keras.layers.Layer):\n",
        "  def __init__(self, channels1, channels2, use_res_connect=False):\n",
        "    super(ConvolutionalBlock, self).__init__()\n",
        "\n",
        "    self.use_res_connect = use_res_connect\n",
        "\n",
        "    self.conv1 = tf.keras.layers.Conv2D(channels1, 3, strides=1, padding='same')\n",
        "    self.norm1 = tf.keras.layers.LayerNormalization()\n",
        "    self.act = tf.nn.gelu\n",
        "    self.conv2 = tf.keras.layers.Conv2D(channels2, 3, strides=1, padding='same')\n",
        "    self.norm2 = tf.keras.layers.LayerNormalization()\n",
        "\n",
        "\n",
        "  def call(self, inputs):\n",
        "\n",
        "    x = self.conv1(inputs)\n",
        "    x = self.norm1(x)\n",
        "    x = self.act(x)\n",
        "    x = self.conv2(x)\n",
        "    x = self.norm2(x)\n",
        "\n",
        "    if self.use_res_connect:\n",
        "      x = self.act(x + inputs)\n",
        "\n",
        "    return x"
      ]
    },
    {
      "cell_type": "code",
      "execution_count": null,
      "metadata": {
        "id": "8NXscEF-mteP"
      },
      "outputs": [],
      "source": [
        "class DownSample(tf.keras.layers.Layer):\n",
        "  def __init__(self, channels, embedding_dim=128):\n",
        "    super(DownSample, self).__init__()\n",
        "    self.channels = channels\n",
        "\n",
        "    self.down = tf.keras.layers.Conv2D(channels, 3, strides=2, padding='same')\n",
        "    self.conv1 = ConvolutionalBlock(2*channels, 2*channels, use_res_connect=False)\n",
        "    self.conv2 = ConvolutionalBlock(2*channels, 2*channels, use_res_connect=True)\n",
        "    self.embedding = tf.keras.layers.Dense(2*channels, activation=tf.nn.silu)\n",
        "\n",
        "  def call(self, inputs):\n",
        "\n",
        "    x, t = inputs\n",
        "    x = self.down(x)\n",
        "    x = self.conv1(x)\n",
        "    x = self.conv2(x)\n",
        "\n",
        "    emb = self.embedding(t)\n",
        "    emb = tf.reshape(emb, [-1, 1, 1, x.shape[-1]])\n",
        "\n",
        "    return x + emb"
      ]
    },
    {
      "cell_type": "code",
      "execution_count": null,
      "metadata": {
        "id": "E-dKJLnan6BG"
      },
      "outputs": [],
      "source": [
        "class UpSample(tf.keras.layers.Layer):\n",
        "  def __init__(self, channels, embedding_dim=128):\n",
        "    super(UpSample, self).__init__()\n",
        "    self.channels = channels\n",
        "\n",
        "    self.up = tf.keras.layers.Conv2DTranspose(channels, 3, strides=2, padding='same')\n",
        "    self.conv1 = ConvolutionalBlock(channels//2, channels//2, use_res_connect=False)\n",
        "    self.conv2 = ConvolutionalBlock(channels//2, channels//2, use_res_connect=True)\n",
        "    self.concat = tf.keras.layers.Concatenate()\n",
        "\n",
        "    self.embedding = tf.keras.layers.Dense(channels//2, activation=tf.nn.silu)\n",
        "\n",
        "  def call(self, inputs):\n",
        "\n",
        "    x, skip_x, t = inputs\n",
        "    x = self.up(x)\n",
        "    x = self.concat([x, skip_x])\n",
        "    x = self.conv1(x)\n",
        "    x = self.conv2(x)\n",
        "\n",
        "    emb = self.embedding(t)\n",
        "    emb = tf.reshape(emb, [-1, 1, 1, x.shape[-1]])\n",
        "\n",
        "    return x + emb"
      ]
    },
    {
      "cell_type": "code",
      "execution_count": null,
      "metadata": {
        "id": "a9L1DZQHpGES"
      },
      "outputs": [],
      "source": [
        "class DiffusionModel(tf.keras.layers.Layer):\n",
        "  def __init__(self, channels=16, time_embed=128):\n",
        "    super(DiffusionModel, self).__init__()\n",
        "    self.channels = channels\n",
        "    self.time_embed = time_embed\n",
        "\n",
        "    self.conv1 = ConvolutionalBlock(channels, channels*2)\n",
        "    self.down1 = DownSample(channels*2)\n",
        "    self.down2 = DownSample(channels*4)\n",
        "    self.down3 = DownSample(channels*8)\n",
        "\n",
        "    self.bottle1 = ConvolutionalBlock(channels*8, channels*8, use_res_connect=False)\n",
        "    self.bottle2 = ConvolutionalBlock(channels*8, channels*8, use_res_connect=True)\n",
        "\n",
        "    self.up1 = UpSample(channels*8)\n",
        "    self.up2 = UpSample(channels*4)\n",
        "    self.up3 = UpSample(channels*2)\n",
        "\n",
        "    self.conv3 = tf.keras.layers.Conv2D(3, 3, strides=1, padding='same')\n",
        "\n",
        "    self.pos_embedding = PositionalEncoding(channels)\n",
        "\n",
        "\n",
        "  def call(self, inputs):\n",
        "\n",
        "    x, t = inputs\n",
        "    t = self.pos_embedding(t)\n",
        "\n",
        "    x1 = self.conv1(x)\n",
        "\n",
        "    # Step 1: Apply the downsampling layers\n",
        "    x2 = ...\n",
        "    x3 = ...\n",
        "    x4 = ...\n",
        "\n",
        "    x4 = self.bottle1(x4)\n",
        "    x4 = self.bottle2(x4)\n",
        "\n",
        "    # Step 2: Apply the upsampling layers\n",
        "    x = ...\n",
        "    x = ...\n",
        "    x = ...\n",
        "\n",
        "    x = self.conv3(x)\n",
        "\n",
        "    return x"
      ]
    },
    {
      "cell_type": "code",
      "execution_count": null,
      "metadata": {
        "id": "01R_ux5IYlX7"
      },
      "outputs": [],
      "source": [
        "# Simple U-net diffusion model\n",
        "def define_diffusion_model(img_size, summary=False):\n",
        "\n",
        "  inp = tf.keras.layers.Input(shape=(img_size[0], img_size[1], img_size[2]))\n",
        "  t = tf.keras.layers.Input(shape=(1,))\n",
        "\n",
        "  diffusion = DiffusionModel()\n",
        "\n",
        "  out = diffusion([inp, t])\n",
        "  model = tf.keras.Model([inp, t], out)\n",
        "\n",
        "  if summary:\n",
        "    model.summary()\n",
        "\n",
        "  return model"
      ]
    },
    {
      "cell_type": "markdown",
      "source": [
        "## Define the custom diffusion model"
      ],
      "metadata": {
        "id": "IQdu_OxzUpzu"
      }
    },
    {
      "cell_type": "code",
      "execution_count": null,
      "metadata": {
        "id": "kOqkNBDNwQlP"
      },
      "outputs": [],
      "source": [
        "class GenerateSamples(tf.keras.callbacks.Callback):\n",
        "  def __init__(self, diffusion, every_nth_epoch):\n",
        "    # Set the model to be used\n",
        "    self.diffusion = diffusion\n",
        "    self.every_nth_epoch = every_nth_epoch\n",
        "\n",
        "  def on_epoch_end(self, epoch, logs=None):\n",
        "\n",
        "    if epoch % self.every_nth_epoch == 0:\n",
        "      print('\\n Generate sample images...')\n",
        "      imgs = self.diffusion.sample(3)\n",
        "\n",
        "      plt.figure(figsize=(15,5))\n",
        "      for i in range(3):\n",
        "        plt.subplot(1,3,i+1)\n",
        "        plt.imshow(imgs[i,])\n",
        "        plt.axis('off')\n",
        "      plt.show();"
      ]
    },
    {
      "cell_type": "code",
      "execution_count": null,
      "metadata": {
        "id": "D4Q5LktQmLvp"
      },
      "outputs": [],
      "source": [
        "class Diffusion(tf.keras.Model):\n",
        "  def __init__(self, num_steps, img_size=64, beta_schedule='linear'):\n",
        "    super(Diffusion, self).__init__()\n",
        "\n",
        "    self.num_steps = num_steps\n",
        "    self.img_size = img_size\n",
        "\n",
        "    if beta_schedule == 'linear':\n",
        "      self.beta = self.linear_noise_schedule()\n",
        "    elif beta_schedule == 'cosine':\n",
        "      self.beta = tf.clip_by_value(self.cosine_noise_schedule(), 0, 0.999)\n",
        "\n",
        "    self.alpha = 1 - self.beta\n",
        "    self.alpha_hat = tf.math.cumprod(self.alpha, axis=0)\n",
        "\n",
        "    self.model = define_diffusion_model(img_size)\n",
        "\n",
        "  # Create the noise schedule\n",
        "  def linear_noise_schedule(self):\n",
        "    beta_start = 0.0001\n",
        "    beta_end = 0.02\n",
        "\n",
        "    # Step 1: Implement a linear noise schedule\n",
        "    betas = ...\n",
        "    return betas\n",
        "\n",
        "\n",
        "  def cosine_noise_schedule(self, s=0.008):\n",
        "    t = tf.linspace(0, self.num_steps, self.num_steps+1)\n",
        "    alpha_hat = tf.cos(((t/self.num_steps) + s)/(1 + s)*np.pi* 0.5) ** 2\n",
        "    alpha_hat = alpha_hat / alpha_hat[0]\n",
        "    betas = 1 - (alpha_hat[1:] / alpha_hat[:-1])\n",
        "    return tf.cast(betas, tf.float32)\n",
        "\n",
        "  # Add noise to the images\n",
        "  def forward_model(self, x, t):\n",
        "\n",
        "    eps = tf.random.normal(shape=x.shape)\n",
        "\n",
        "    # Step 1: Retrieve `alpha_hat` and `1 - alpha_hat` for timestep `t`\n",
        "    sqrt_alpha_hat = ...\n",
        "    sqrt_one_minus_alpha_hat = ...\n",
        "\n",
        "    # Step 2: Implement the forward diffusion process\n",
        "    # Hint: Think about how `x_mean` should scale the original image\n",
        "    x_mean = ...\n",
        "    x_noise = ...\n",
        "\n",
        "    return x_mean + x_noise, eps\n",
        "\n",
        "  def sample_timesteps(self, num_imgs):\n",
        "    return tf.random.uniform((num_imgs,), 0, self.num_steps, dtype=tf.int32)\n",
        "\n",
        "  def call(self, inputs):\n",
        "    imgs, t = inputs\n",
        "    out = self.model([imgs, t])\n",
        "    return out\n",
        "\n",
        "  # Sample from the model\n",
        "  def sample(self, num_imgs):\n",
        "\n",
        "    x = tf.random.normal((num_imgs, self.img_size[0], self.img_size[1], self.img_size[2]))\n",
        "\n",
        "    for i in tqdm(reversed(range(self.num_steps)), position=0):\n",
        "\n",
        "      t = tf.convert_to_tensor([i]*num_imgs)\n",
        "\n",
        "      # Step 1: Predict noise using the trained model\n",
        "      predicted_noise = ...\n",
        "\n",
        "      alpha = tf.reshape(tf.gather(self.alpha, t), (-1, 1, 1, 1))\n",
        "\n",
        "      # Step 2: Compute alpha_hat and beta for timestep t\n",
        "      alpha_hat = ...\n",
        "      beta = ...\n",
        "\n",
        "      # Step 3: Compute next step in reverse diffusion\n",
        "      if i > 0:\n",
        "        noise = ...\n",
        "      else:\n",
        "        noise = ...\n",
        "\n",
        "      x = 1 / tf.sqrt(alpha) * (x - ((1 - alpha) /  tf.sqrt(1 - alpha_hat)) * predicted_noise) + tf.sqrt(beta) * noise\n",
        "\n",
        "    x = (tf.clip_by_value(x, -1.0, 1.0) + 1)/2\n",
        "    x = tf.cast(x*255, tf.uint8)\n",
        "    return x\n",
        "\n",
        "  # Train the model\n",
        "  @tf.function\n",
        "  def train_step(self, batch):\n",
        "\n",
        "    batch_size = batch.shape[0]\n",
        "    t = self.sample_timesteps(batch_size)\n",
        "    batch_corrupted, noise = self.forward_model(batch, t)\n",
        "\n",
        "    with tf.GradientTape() as tape:\n",
        "\n",
        "      # Predict the noise\n",
        "      predicted_noise = self.model([batch_corrupted, t], training=True)\n",
        "\n",
        "      # Compute the loss\n",
        "      loss = self.compute_loss(y=noise, y_pred=predicted_noise)\n",
        "\n",
        "    # Compute the gradients\n",
        "    gradients = tape.gradient(loss, self.trainable_variables)\n",
        "\n",
        "    # Update the weights\n",
        "    self.optimizer.apply_gradients(zip(gradients, self.trainable_variables))\n",
        "    self.compiled_metrics.update_state(noise, predicted_noise)\n",
        "    return {m.name: m.result() for m in self.metrics}"
      ]
    },
    {
      "cell_type": "markdown",
      "source": [
        "## Train the model"
      ],
      "metadata": {
        "id": "-9hLEdKRUvHb"
      }
    },
    {
      "cell_type": "code",
      "execution_count": null,
      "metadata": {
        "id": "D4vpnKsT_-xh"
      },
      "outputs": [],
      "source": [
        "model = Diffusion(num_steps=500, img_size=x_train.shape[1:], beta_schedule='linear')"
      ]
    },
    {
      "cell_type": "code",
      "execution_count": null,
      "metadata": {
        "colab": {
          "base_uri": "https://localhost:8080/",
          "height": 166
        },
        "id": "oq5WlUaltmAF",
        "outputId": "c84f0571-1d92-43f2-9243-fe86cddd377f"
      },
      "outputs": [
        {
          "output_type": "display_data",
          "data": {
            "text/plain": [
              "\u001b[1mModel: \"diffusion\"\u001b[0m\n"
            ],
            "text/html": [
              "<pre style=\"white-space:pre;overflow-x:auto;line-height:normal;font-family:Menlo,'DejaVu Sans Mono',consolas,'Courier New',monospace\"><span style=\"font-weight: bold\">Model: \"diffusion\"</span>\n",
              "</pre>\n"
            ]
          },
          "metadata": {}
        },
        {
          "output_type": "display_data",
          "data": {
            "text/plain": [
              "┏━━━━━━━━━━━━━━━━━━━━━━━━━━━━━━━━━━━━━━┳━━━━━━━━━━━━━━━━━━━━━━━━━━━━━┳━━━━━━━━━━━━━━━━━┓\n",
              "┃\u001b[1m \u001b[0m\u001b[1mLayer (type)                        \u001b[0m\u001b[1m \u001b[0m┃\u001b[1m \u001b[0m\u001b[1mOutput Shape               \u001b[0m\u001b[1m \u001b[0m┃\u001b[1m \u001b[0m\u001b[1m        Param #\u001b[0m\u001b[1m \u001b[0m┃\n",
              "┡━━━━━━━━━━━━━━━━━━━━━━━━━━━━━━━━━━━━━━╇━━━━━━━━━━━━━━━━━━━━━━━━━━━━━╇━━━━━━━━━━━━━━━━━┩\n",
              "│ functional (\u001b[38;5;33mFunctional\u001b[0m)              │ (\u001b[38;5;45mNone\u001b[0m, \u001b[38;5;34m64\u001b[0m, \u001b[38;5;34m64\u001b[0m, \u001b[38;5;34m3\u001b[0m)           │       \u001b[38;5;34m4,196,387\u001b[0m │\n",
              "└──────────────────────────────────────┴─────────────────────────────┴─────────────────┘\n"
            ],
            "text/html": [
              "<pre style=\"white-space:pre;overflow-x:auto;line-height:normal;font-family:Menlo,'DejaVu Sans Mono',consolas,'Courier New',monospace\">┏━━━━━━━━━━━━━━━━━━━━━━━━━━━━━━━━━━━━━━┳━━━━━━━━━━━━━━━━━━━━━━━━━━━━━┳━━━━━━━━━━━━━━━━━┓\n",
              "┃<span style=\"font-weight: bold\"> Layer (type)                         </span>┃<span style=\"font-weight: bold\"> Output Shape                </span>┃<span style=\"font-weight: bold\">         Param # </span>┃\n",
              "┡━━━━━━━━━━━━━━━━━━━━━━━━━━━━━━━━━━━━━━╇━━━━━━━━━━━━━━━━━━━━━━━━━━━━━╇━━━━━━━━━━━━━━━━━┩\n",
              "│ functional (<span style=\"color: #0087ff; text-decoration-color: #0087ff\">Functional</span>)              │ (<span style=\"color: #00d7ff; text-decoration-color: #00d7ff\">None</span>, <span style=\"color: #00af00; text-decoration-color: #00af00\">64</span>, <span style=\"color: #00af00; text-decoration-color: #00af00\">64</span>, <span style=\"color: #00af00; text-decoration-color: #00af00\">3</span>)           │       <span style=\"color: #00af00; text-decoration-color: #00af00\">4,196,387</span> │\n",
              "└──────────────────────────────────────┴─────────────────────────────┴─────────────────┘\n",
              "</pre>\n"
            ]
          },
          "metadata": {}
        },
        {
          "output_type": "display_data",
          "data": {
            "text/plain": [
              "\u001b[1m Total params: \u001b[0m\u001b[38;5;34m4,196,387\u001b[0m (16.01 MB)\n"
            ],
            "text/html": [
              "<pre style=\"white-space:pre;overflow-x:auto;line-height:normal;font-family:Menlo,'DejaVu Sans Mono',consolas,'Courier New',monospace\"><span style=\"font-weight: bold\"> Total params: </span><span style=\"color: #00af00; text-decoration-color: #00af00\">4,196,387</span> (16.01 MB)\n",
              "</pre>\n"
            ]
          },
          "metadata": {}
        },
        {
          "output_type": "display_data",
          "data": {
            "text/plain": [
              "\u001b[1m Trainable params: \u001b[0m\u001b[38;5;34m4,196,387\u001b[0m (16.01 MB)\n"
            ],
            "text/html": [
              "<pre style=\"white-space:pre;overflow-x:auto;line-height:normal;font-family:Menlo,'DejaVu Sans Mono',consolas,'Courier New',monospace\"><span style=\"font-weight: bold\"> Trainable params: </span><span style=\"color: #00af00; text-decoration-color: #00af00\">4,196,387</span> (16.01 MB)\n",
              "</pre>\n"
            ]
          },
          "metadata": {}
        },
        {
          "output_type": "display_data",
          "data": {
            "text/plain": [
              "\u001b[1m Non-trainable params: \u001b[0m\u001b[38;5;34m0\u001b[0m (0.00 B)\n"
            ],
            "text/html": [
              "<pre style=\"white-space:pre;overflow-x:auto;line-height:normal;font-family:Menlo,'DejaVu Sans Mono',consolas,'Courier New',monospace\"><span style=\"font-weight: bold\"> Non-trainable params: </span><span style=\"color: #00af00; text-decoration-color: #00af00\">0</span> (0.00 B)\n",
              "</pre>\n"
            ]
          },
          "metadata": {}
        }
      ],
      "source": [
        "# Call the model once to get the model summary\n",
        "noise = model([x_train[:10], np.reshape(np.random.randint(0, 300, 10),(-1,1))])\n",
        "model.summary()"
      ]
    },
    {
      "cell_type": "code",
      "execution_count": null,
      "metadata": {
        "id": "YbEiYqv3vGpj"
      },
      "outputs": [],
      "source": [
        "model.compile(optimizer=tf.keras.optimizers.Adam(learning_rate=3e-4), loss=tf.keras.losses.MeanSquaredError())"
      ]
    },
    {
      "cell_type": "code",
      "execution_count": null,
      "metadata": {
        "colab": {
          "base_uri": "https://localhost:8080/",
          "height": 682
        },
        "id": "teBq-Zw4vMoY",
        "outputId": "2efabee4-4cc2-432e-dcf9-0886be0ecb65"
      },
      "outputs": [
        {
          "output_type": "stream",
          "name": "stdout",
          "text": [
            "Epoch 1/500\n"
          ]
        },
        {
          "output_type": "stream",
          "name": "stderr",
          "text": [
            "/usr/local/lib/python3.11/dist-packages/keras/src/backend/tensorflow/trainer.py:642: UserWarning: `model.compiled_metrics()` is deprecated. Instead, use e.g.:\n",
            "```\n",
            "for metric in self.metrics:\n",
            "    metric.update_state(y, y_pred)\n",
            "```\n",
            "\n"
          ]
        },
        {
          "output_type": "stream",
          "name": "stdout",
          "text": [
            "\u001b[1m499/500\u001b[0m \u001b[32m━━━━━━━━━━━━━━━━━━━\u001b[0m\u001b[37m━\u001b[0m \u001b[1m0s\u001b[0m 40ms/step - loss: 0.0139\n",
            " Generate sample images...\n"
          ]
        },
        {
          "output_type": "stream",
          "name": "stderr",
          "text": [
            "500it [01:23,  5.98it/s]\n"
          ]
        },
        {
          "output_type": "display_data",
          "data": {
            "text/plain": [
              "<Figure size 1500x500 with 3 Axes>"
            ],
            "image/png": "[encoded data removed]"
          },
          "metadata": {}
        },
        {
          "output_type": "stream",
          "name": "stdout",
          "text": [
            "\b\b\b\b\b\b\b\b\b\b\b\b\b\b\b\b\b\b\b\b\b\b\b\b\b\b\b\b\b\b\b\b\b\b\b\b\b\b\b\b\b\b\b\b\b\b\b\b\b\b\b\b\b\b\b\b\r\u001b[1m500/500\u001b[0m \u001b[32m━━━━━━━━━━━━━━━━━━━━\u001b[0m\u001b[37m\u001b[0m \u001b[1m144s\u001b[0m 210ms/step - loss: 0.0139\n",
            "Epoch 2/500\n",
            "\u001b[1m500/500\u001b[0m \u001b[32m━━━━━━━━━━━━━━━━━━━━\u001b[0m\u001b[37m\u001b[0m \u001b[1m21s\u001b[0m 42ms/step - loss: 6.4610e-04\n",
            "Epoch 3/500\n",
            "\u001b[1m500/500\u001b[0m \u001b[32m━━━━━━━━━━━━━━━━━━━━\u001b[0m\u001b[37m\u001b[0m \u001b[1m40s\u001b[0m 41ms/step - loss: 1.9919e-04\n",
            "Epoch 4/500\n",
            "\u001b[1m338/500\u001b[0m \u001b[32m━━━━━━━━━━━━━\u001b[0m\u001b[37m━━━━━━━\u001b[0m \u001b[1m6s\u001b[0m 41ms/step - loss: 1.0019e-04"
          ]
        }
      ],
      "source": [
        "hist = model.fit(x_train[:10000], epochs=500, batch_size=20,\n",
        "                 callbacks=[GenerateSamples(model, 20)])"
      ]
    },
    {
      "cell_type": "markdown",
      "source": [
        "## Plotting"
      ],
      "metadata": {
        "id": "yK_0ZpX0UyNx"
      }
    },
    {
      "cell_type": "code",
      "source": [
        "# Let's illustrate the forward diffusion process\n",
        "img = 2*x_test[12]/255. - 1\n",
        "diffused, _ = model.forward_model(img, 0)\n",
        "\n",
        "diffused = []\n",
        "for i in range(500):\n",
        "  diffused.append(model.forward_model(img, i)[0][0])\n",
        "\n",
        "diffused = np.array(diffused)\n",
        "\n",
        "diffused = 2*(diffused - np.reshape(diffused.min(axis=(1,2,3)), (-1,1,1,1)) )/ (np.reshape(diffused.max(axis=(1,2,3)), (-1,1,1,1)) - np.reshape(diffused.min(axis=(1,2,3)), (-1,1,1,1))) - 1.0\n",
        "diffused = 255*(diffused+1)/2\n",
        "\n",
        "\n",
        "plt.figure(figsize=(15,5))\n",
        "count = 0\n",
        "for i in [0, 10, 20, 50, 100, 499]:\n",
        "  count += 1\n",
        "  plt.subplot(1,6,count)\n",
        "  plt.imshow(diffused[i].astype(np.uint8));\n",
        "  plt.title(f'Step: {i}')\n",
        "  plt.axis('off')\n",
        "plt.savefig('diffusionExample.png')"
      ],
      "metadata": {
        "id": "oLCq5JLhLslM"
      },
      "execution_count": null,
      "outputs": []
    },
    {
      "cell_type": "code",
      "execution_count": null,
      "metadata": {
        "id": "iUdIlXzStThJ"
      },
      "outputs": [],
      "source": [
        "# Sample from the model to generate some images\n",
        "img = model.sample(16)"
      ]
    },
    {
      "cell_type": "code",
      "execution_count": null,
      "metadata": {
        "id": "paNbswGmywP0"
      },
      "outputs": [],
      "source": [
        "# Check the pixel distribution (to make sure it looks reasonable, i.e. not\n",
        "# too many saturated pixels)\n",
        "plt.hist(img.numpy().flatten(), 20);"
      ]
    },
    {
      "cell_type": "code",
      "execution_count": null,
      "metadata": {
        "id": "4-yYVMEmURB9"
      },
      "outputs": [],
      "source": [
        "# Generated images\n",
        "plt.figure(figsize=(15,15))\n",
        "for i in range(16):\n",
        "  plt.subplot(4,4,i+1)\n",
        "  plt.imshow(img[i,])\n",
        "  plt.axis('off')\n",
        "plt.savefig('generatedImages.png')"
      ]
    },
    {
      "cell_type": "code",
      "source": [
        "# True images (for comparison purposes)\n",
        "plt.figure(figsize=(15,15))\n",
        "for i in range(16):\n",
        "  plt.subplot(4,4,i+1)\n",
        "  plt.imshow(x_test[i,].astype('uint8'))\n",
        "  plt.axis('off')\n",
        "plt.savefig('trueImages.png')"
      ],
      "metadata": {
        "id": "FORiwi5DLKTK"
      },
      "execution_count": null,
      "outputs": []
    }
  ],
  "metadata": {
    "accelerator": "GPU",
    "colab": {
      "provenance": [],
      "gpuType": "T4"
    },
    "kernelspec": {
      "display_name": "Python 3",
      "name": "python3"
    },
    "language_info": {
      "name": "python"
    }
  },
  "nbformat": 4,
  "nbformat_minor": 0
}