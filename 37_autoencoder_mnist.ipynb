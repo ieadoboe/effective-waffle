{
 "cells": [
  {
   "cell_type": "markdown",
   "metadata": {},
   "source": [
    "# Outlier detection with Autoencoders on MNIST dataset\n"
   ]
  },
  {
   "cell_type": "markdown",
   "metadata": {},
   "source": [
    "Goal: Use autoencoder to detect outliers.\n",
    "\n",
    "Regular - \"0\"  \n",
    "Outlier - \"6\"\n",
    "\n",
    "Hypothesis:\n",
    "Model will have a high reconstruction loss on \"6\" when trained on \"0\".\n"
   ]
  },
  {
   "cell_type": "code",
   "execution_count": 10,
   "metadata": {},
   "outputs": [],
   "source": [
    "# Import libraries\n",
    "import pandas as pd\n",
    "import numpy as np\n",
    "import tensorflow as tf\n",
    "import matplotlib.pyplot as plt\n",
    "import tensorflow_datasets as tfds"
   ]
  },
  {
   "cell_type": "code",
   "execution_count": 28,
   "metadata": {},
   "outputs": [],
   "source": [
    "# Load dataset\n",
    "(train_images, train_labels), (test_images, test_labels) = (\n",
    "    tf.keras.datasets.mnist.load_data()\n",
    ")\n",
    "\n",
    "# combine dataset\n",
    "combined_images = np.concatenate((train_images, test_images), axis=0)\n",
    "combined_labels = np.concatenate((train_labels, test_labels), axis=0)"
   ]
  },
  {
   "cell_type": "code",
   "execution_count": null,
   "metadata": {},
   "outputs": [],
   "source": [
    "regular_images = combined_images[combined_labels == 0]  # zero images\n",
    "regular_labels = np.zeros(len(regular_images), dtype=int)  # zero label = 0\n",
    "\n",
    "six_images = combined_images[combined_labels == 6]  # outlier images\n",
    "\n",
    "sample_size = 500\n",
    "idx = np.random.choice(len(six_images), sample_size, replace=False)\n",
    "\n",
    "outlier_images = six_images[idx]\n",
    "outlier_labels = np.ones(len(regular_images), dtype=int)  # outlier label = 1"
   ]
  }
 ],
 "metadata": {
  "kernelspec": {
   "display_name": "deep12",
   "language": "python",
   "name": "python3"
  },
  "language_info": {
   "codemirror_mode": {
    "name": "ipython",
    "version": 3
   },
   "file_extension": ".py",
   "mimetype": "text/x-python",
   "name": "python",
   "nbconvert_exporter": "python",
   "pygments_lexer": "ipython3",
   "version": "3.12.9"
  }
 },
 "nbformat": 4,
 "nbformat_minor": 2
}
