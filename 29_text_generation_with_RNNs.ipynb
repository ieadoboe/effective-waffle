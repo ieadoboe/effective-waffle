{
  "nbformat": 4,
  "nbformat_minor": 0,
  "metadata": {
    "colab": {
      "provenance": [],
      "gpuType": "T4"
    },
    "kernelspec": {
      "name": "python3",
      "display_name": "Python 3"
    },
    "language_info": {
      "name": "python"
    },
    "accelerator": "GPU"
  },
  "cells": [
    {
      "cell_type": "code",
      "execution_count": 1,
      "metadata": {
        "id": "2S51TNnRbxLb"
      },
      "outputs": [],
      "source": [
        "import tensorflow as tf"
      ]
    },
    {
      "cell_type": "markdown",
      "source": [
        "### Data acquisition and preprocessing"
      ],
      "metadata": {
        "id": "DkiuvNHQgO7G"
      }
    },
    {
      "cell_type": "code",
      "source": [
        "# Get Shakespeares work from Andrej Karpathy's website\n",
        "\n",
        "url = 'https://raw.githubusercontent.com/karpathy/char-rnn/master/data/tinyshakespeare/input.txt'\n",
        "filepath = tf.keras.utils.get_file('shakespeare.txt', url)\n",
        "\n",
        "with open(filepath) as f:\n",
        "  shakespeare_text = f.read()"
      ],
      "metadata": {
        "id": "zwjcY5_pb1L6",
        "colab": {
          "base_uri": "https://localhost:8080/"
        },
        "outputId": "1c3d323d-a178-431d-c2dd-dc27782f0c46"
      },
      "execution_count": 2,
      "outputs": [
        {
          "output_type": "stream",
          "name": "stdout",
          "text": [
            "Downloading data from https://raw.githubusercontent.com/karpathy/char-rnn/master/data/tinyshakespeare/input.txt\n",
            "\u001b[1m1115394/1115394\u001b[0m \u001b[32m━━━━━━━━━━━━━━━━━━━━\u001b[0m\u001b[37m\u001b[0m \u001b[1m0s\u001b[0m 0us/step\n"
          ]
        }
      ]
    },
    {
      "cell_type": "code",
      "source": [
        "# Print the first few characters\n",
        "print(shakespeare_text[:148])"
      ],
      "metadata": {
        "colab": {
          "base_uri": "https://localhost:8080/"
        },
        "id": "oXg9Pq5CcJox",
        "outputId": "7d993de4-cf41-4543-e2b7-3c0c9aee2e72"
      },
      "execution_count": 3,
      "outputs": [
        {
          "output_type": "stream",
          "name": "stdout",
          "text": [
            "First Citizen:\n",
            "Before we proceed any further, hear me speak.\n",
            "\n",
            "All:\n",
            "Speak, speak.\n",
            "\n",
            "First Citizen:\n",
            "You are all resolved rather to die than to famish?\n",
            "\n"
          ]
        }
      ]
    },
    {
      "cell_type": "code",
      "source": [
        "# Encode the text on the character level, converting all words to lowercase\n",
        "text_vec_layer = tf.keras.layers.TextVectorization(split='character', standardize='lower')\n",
        "text_vec_layer.adapt([shakespeare_text])\n",
        "encoded_text = text_vec_layer(tf.constant(shakespeare_text))"
      ],
      "metadata": {
        "id": "zLWxn4dJcajA"
      },
      "execution_count": 4,
      "outputs": []
    },
    {
      "cell_type": "code",
      "source": [
        "# This is the text from before, just integer encoded now\n",
        "print(encoded_text[:148])"
      ],
      "metadata": {
        "colab": {
          "base_uri": "https://localhost:8080/"
        },
        "id": "rX4IAOC-c3fv",
        "outputId": "8a935ab0-6ba1-4ac8-f6f2-5379930769d4"
      },
      "execution_count": 5,
      "outputs": [
        {
          "output_type": "stream",
          "name": "stdout",
          "text": [
            "tf.Tensor(\n",
            "[21  7 10  9  4  2 20  7  4  7 37  3 11 25 12 23  3 21  5 10  3  2 18  3\n",
            "  2 24 10  5 20  3  3 14  2  6 11 17  2 21 15 10  4  8  3 10 19  2  8  3\n",
            "  6 10  2 16  3  2  9 24  3  6 26 28 12 12  6 13 13 25 12  9 24  3  6 26\n",
            " 19  2  9 24  3  6 26 28 12 12 21  7 10  9  4  2 20  7  4  7 37  3 11 25\n",
            " 12 17  5 15  2  6 10  3  2  6 13 13  2 10  3  9  5 13 27  3 14  2 10  6\n",
            "  4  8  3 10  2  4  5  2 14  7  3  2  4  8  6 11  2  4  5  2 21  6 16  7\n",
            "  9  8 31 12], shape=(148,), dtype=int64)\n"
          ]
        }
      ]
    },
    {
      "cell_type": "code",
      "source": [
        "# How many number of distinct characters has the vocabulary:\n",
        "tokens = text_vec_layer.vocabulary_size()\n",
        "print(f'Number of tokens in vocabulary: {tokens}')\n",
        "\n",
        "# How many characters has the dataset:\n",
        "text_length = len(shakespeare_text)\n",
        "print(f'Total length of text dataset: {text_length}')"
      ],
      "metadata": {
        "colab": {
          "base_uri": "https://localhost:8080/"
        },
        "id": "NgjdPleadpb-",
        "outputId": "ca9fb2aa-5e61-45c8-d558-6a54e5da9e11"
      },
      "execution_count": 6,
      "outputs": [
        {
          "output_type": "stream",
          "name": "stdout",
          "text": [
            "Number of tokens in vocabulary: 41\n",
            "Total length of text dataset: 1115394\n"
          ]
        }
      ]
    },
    {
      "cell_type": "code",
      "source": [
        "# We need to break the total sequence into smaller chunks for our prediction model\n",
        "# These chunks are of size \"length\" and are shifted by one character\n",
        "# between input and output.\n",
        "def get_dataset(sequence, length, shuffle=False, batch_size=128):\n",
        "\n",
        "  dataset = tf.data.Dataset.from_tensor_slices(sequence)\n",
        "  dataset = dataset.window(length + 1, shift=1, drop_remainder=True)\n",
        "  dataset = dataset.flat_map(lambda window: window.batch(length + 1))\n",
        "  if shuffle:\n",
        "    dataset = dataset.shuffle(len(sequence))\n",
        "  dataset = dataset.batch(batch_size)\n",
        "  dataset = dataset.map(lambda windows: (windows[:, :-1], windows[:, 1:])).prefetch(1)\n",
        "  return dataset"
      ],
      "metadata": {
        "id": "2-JyZnN1d_HZ"
      },
      "execution_count": 7,
      "outputs": []
    },
    {
      "cell_type": "code",
      "source": [
        "# Prediction size for the model\n",
        "length = 100\n",
        "\n",
        "# Split the dataset into training, validation and testing\n",
        "TRAIN_SPLIT = int(0.9 * text_length)\n",
        "TEST_SPLIT = int(0.95 * text_length)\n",
        "\n",
        "train_dataset = get_dataset(encoded_text[:TRAIN_SPLIT], length, shuffle=True)\n",
        "val_dataset = get_dataset(encoded_text[TRAIN_SPLIT:TEST_SPLIT], length, shuffle=False)\n",
        "test_dataset = get_dataset(encoded_text[TEST_SPLIT:], length, shuffle=False)"
      ],
      "metadata": {
        "id": "4aHacZrrfXsD"
      },
      "execution_count": 8,
      "outputs": []
    },
    {
      "cell_type": "code",
      "source": [
        "# Let's check how the training data samples look like\n",
        "for x, y in train_dataset.take(1):\n",
        "  print(f'Input shape: {x.shape}')\n",
        "  print(f'Target shape: {y.shape}')\n",
        "\n",
        "  # Show one sample\n",
        "  print(f'Input: {x[0]}')\n",
        "  print(f'Target: {y[0]}')"
      ],
      "metadata": {
        "colab": {
          "base_uri": "https://localhost:8080/"
        },
        "id": "czq_2-6nrz21",
        "outputId": "002d1f13-1331-45ca-b2af-923b3093ef31"
      },
      "execution_count": 9,
      "outputs": [
        {
          "output_type": "stream",
          "name": "stdout",
          "text": [
            "Input shape: (128, 100)\n",
            "Target shape: (128, 100)\n",
            "Input: [20  3 14  2  9 16  7 13  3  9 30 12  6 11 14  2 23  5  4  8  2  6 10  3\n",
            "  2 10  3  6 14 17  2  7 11  2  4  8  3  7 10  2  5 21 21  7 20  3  9 19\n",
            " 12  6  4  2  6 11 17  2  4  7 16  3 19  2  4  5  2 22 10  6 20  3  2 16\n",
            " 17  2  9  4 10  6  4  6 22  3 16  9 28 12 23 15  4  2 18  8  6  4 19  2\n",
            "  7  9  2 20]\n",
            "Target: [ 3 14  2  9 16  7 13  3  9 30 12  6 11 14  2 23  5  4  8  2  6 10  3  2\n",
            " 10  3  6 14 17  2  7 11  2  4  8  3  7 10  2  5 21 21  7 20  3  9 19 12\n",
            "  6  4  2  6 11 17  2  4  7 16  3 19  2  4  5  2 22 10  6 20  3  2 16 17\n",
            "  2  9  4 10  6  4  6 22  3 16  9 28 12 23 15  4  2 18  8  6  4 19  2  7\n",
            "  9  2 20  6]\n"
          ]
        }
      ]
    },
    {
      "cell_type": "markdown",
      "source": [
        "### Building an RNN model"
      ],
      "metadata": {
        "id": "7TXKqJDNgR_V"
      }
    },
    {
      "cell_type": "code",
      "source": [
        "# Model based on a simple Gated Recurrent Unit:\n",
        "model = tf.keras.models.Sequential([\n",
        "    tf.keras.layers.Embedding(tokens, 16),\n",
        "    tf.keras.layers.GRU(128, return_sequences=True),\n",
        "    tf.keras.layers.Dense(tokens, activation='softmax')\n",
        "])"
      ],
      "metadata": {
        "id": "n6Mh992FgUlm"
      },
      "execution_count": 10,
      "outputs": []
    },
    {
      "cell_type": "code",
      "source": [
        "# Check how the model looks like\n",
        "model.summary()"
      ],
      "metadata": {
        "id": "H8kcuN7gsGSy",
        "colab": {
          "base_uri": "https://localhost:8080/",
          "height": 232
        },
        "outputId": "e4d2f4dd-18cc-4879-e65e-f938fa8a1e74"
      },
      "execution_count": 11,
      "outputs": [
        {
          "output_type": "display_data",
          "data": {
            "text/plain": [
              "\u001b[1mModel: \"sequential\"\u001b[0m\n"
            ],
            "text/html": [
              "<pre style=\"white-space:pre;overflow-x:auto;line-height:normal;font-family:Menlo,'DejaVu Sans Mono',consolas,'Courier New',monospace\"><span style=\"font-weight: bold\">Model: \"sequential\"</span>\n",
              "</pre>\n"
            ]
          },
          "metadata": {}
        },
        {
          "output_type": "display_data",
          "data": {
            "text/plain": [
              "┏━━━━━━━━━━━━━━━━━━━━━━━━━━━━━━━━━━━━━━┳━━━━━━━━━━━━━━━━━━━━━━━━━━━━━┳━━━━━━━━━━━━━━━━━┓\n",
              "┃\u001b[1m \u001b[0m\u001b[1mLayer (type)                        \u001b[0m\u001b[1m \u001b[0m┃\u001b[1m \u001b[0m\u001b[1mOutput Shape               \u001b[0m\u001b[1m \u001b[0m┃\u001b[1m \u001b[0m\u001b[1m        Param #\u001b[0m\u001b[1m \u001b[0m┃\n",
              "┡━━━━━━━━━━━━━━━━━━━━━━━━━━━━━━━━━━━━━━╇━━━━━━━━━━━━━━━━━━━━━━━━━━━━━╇━━━━━━━━━━━━━━━━━┩\n",
              "│ embedding (\u001b[38;5;33mEmbedding\u001b[0m)                │ ?                           │     \u001b[38;5;34m0\u001b[0m (unbuilt) │\n",
              "├──────────────────────────────────────┼─────────────────────────────┼─────────────────┤\n",
              "│ gru (\u001b[38;5;33mGRU\u001b[0m)                            │ ?                           │     \u001b[38;5;34m0\u001b[0m (unbuilt) │\n",
              "├──────────────────────────────────────┼─────────────────────────────┼─────────────────┤\n",
              "│ dense (\u001b[38;5;33mDense\u001b[0m)                        │ ?                           │     \u001b[38;5;34m0\u001b[0m (unbuilt) │\n",
              "└──────────────────────────────────────┴─────────────────────────────┴─────────────────┘\n"
            ],
            "text/html": [
              "<pre style=\"white-space:pre;overflow-x:auto;line-height:normal;font-family:Menlo,'DejaVu Sans Mono',consolas,'Courier New',monospace\">┏━━━━━━━━━━━━━━━━━━━━━━━━━━━━━━━━━━━━━━┳━━━━━━━━━━━━━━━━━━━━━━━━━━━━━┳━━━━━━━━━━━━━━━━━┓\n",
              "┃<span style=\"font-weight: bold\"> Layer (type)                         </span>┃<span style=\"font-weight: bold\"> Output Shape                </span>┃<span style=\"font-weight: bold\">         Param # </span>┃\n",
              "┡━━━━━━━━━━━━━━━━━━━━━━━━━━━━━━━━━━━━━━╇━━━━━━━━━━━━━━━━━━━━━━━━━━━━━╇━━━━━━━━━━━━━━━━━┩\n",
              "│ embedding (<span style=\"color: #0087ff; text-decoration-color: #0087ff\">Embedding</span>)                │ ?                           │     <span style=\"color: #00af00; text-decoration-color: #00af00\">0</span> (unbuilt) │\n",
              "├──────────────────────────────────────┼─────────────────────────────┼─────────────────┤\n",
              "│ gru (<span style=\"color: #0087ff; text-decoration-color: #0087ff\">GRU</span>)                            │ ?                           │     <span style=\"color: #00af00; text-decoration-color: #00af00\">0</span> (unbuilt) │\n",
              "├──────────────────────────────────────┼─────────────────────────────┼─────────────────┤\n",
              "│ dense (<span style=\"color: #0087ff; text-decoration-color: #0087ff\">Dense</span>)                        │ ?                           │     <span style=\"color: #00af00; text-decoration-color: #00af00\">0</span> (unbuilt) │\n",
              "└──────────────────────────────────────┴─────────────────────────────┴─────────────────┘\n",
              "</pre>\n"
            ]
          },
          "metadata": {}
        },
        {
          "output_type": "display_data",
          "data": {
            "text/plain": [
              "\u001b[1m Total params: \u001b[0m\u001b[38;5;34m0\u001b[0m (0.00 B)\n"
            ],
            "text/html": [
              "<pre style=\"white-space:pre;overflow-x:auto;line-height:normal;font-family:Menlo,'DejaVu Sans Mono',consolas,'Courier New',monospace\"><span style=\"font-weight: bold\"> Total params: </span><span style=\"color: #00af00; text-decoration-color: #00af00\">0</span> (0.00 B)\n",
              "</pre>\n"
            ]
          },
          "metadata": {}
        },
        {
          "output_type": "display_data",
          "data": {
            "text/plain": [
              "\u001b[1m Trainable params: \u001b[0m\u001b[38;5;34m0\u001b[0m (0.00 B)\n"
            ],
            "text/html": [
              "<pre style=\"white-space:pre;overflow-x:auto;line-height:normal;font-family:Menlo,'DejaVu Sans Mono',consolas,'Courier New',monospace\"><span style=\"font-weight: bold\"> Trainable params: </span><span style=\"color: #00af00; text-decoration-color: #00af00\">0</span> (0.00 B)\n",
              "</pre>\n"
            ]
          },
          "metadata": {}
        },
        {
          "output_type": "display_data",
          "data": {
            "text/plain": [
              "\u001b[1m Non-trainable params: \u001b[0m\u001b[38;5;34m0\u001b[0m (0.00 B)\n"
            ],
            "text/html": [
              "<pre style=\"white-space:pre;overflow-x:auto;line-height:normal;font-family:Menlo,'DejaVu Sans Mono',consolas,'Courier New',monospace\"><span style=\"font-weight: bold\"> Non-trainable params: </span><span style=\"color: #00af00; text-decoration-color: #00af00\">0</span> (0.00 B)\n",
              "</pre>\n"
            ]
          },
          "metadata": {}
        }
      ]
    },
    {
      "cell_type": "code",
      "source": [
        "# We do next character level prediction so the proper loss is cross-entropy\n",
        "model.compile(loss='sparse_categorical_crossentropy', optimizer='adam', metrics=['accuracy'])"
      ],
      "metadata": {
        "id": "3mT5ZVdxhEq1"
      },
      "execution_count": 12,
      "outputs": []
    },
    {
      "cell_type": "code",
      "source": [
        "check_point = tf.keras.callbacks.ModelCheckpoint('model.keras', monitor='val_accuracy',\n",
        "                                                 save_best_only=True)\n",
        "history = model.fit(train_dataset, validation_data=val_dataset, epochs=10,\n",
        "                    callbacks=[check_point])"
      ],
      "metadata": {
        "id": "43KKZ_FChY7u"
      },
      "execution_count": null,
      "outputs": []
    },
    {
      "cell_type": "code",
      "source": [
        "# We can now use the model to predict some next characters. We add the text-encoding layer\n",
        "# to be able to use raw text\n",
        "deploy_model = tf.keras.models.Sequential([\n",
        "    text_vec_layer,\n",
        "    model\n",
        "])"
      ],
      "metadata": {
        "id": "cVv-4jXctDSr"
      },
      "execution_count": 14,
      "outputs": []
    },
    {
      "cell_type": "code",
      "source": [
        "# The model predicts the probabilities for the most likely following letter\n",
        "y_probability = deploy_model.predict(tf.constant(['To be or not to b']))[0,-1]\n",
        "\n",
        "# Convert this probability into the actual letter\n",
        "y_pred = tf.argmax(y_probability, axis=-1)"
      ],
      "metadata": {
        "id": "w7KuKYqJtQeb",
        "colab": {
          "base_uri": "https://localhost:8080/"
        },
        "outputId": "4307c40b-c346-40a9-cd17-a0f68b6f8d16"
      },
      "execution_count": 15,
      "outputs": [
        {
          "output_type": "stream",
          "name": "stdout",
          "text": [
            "\u001b[1m1/1\u001b[0m \u001b[32m━━━━━━━━━━━━━━━━━━━━\u001b[0m\u001b[37m\u001b[0m \u001b[1m0s\u001b[0m 219ms/step\n"
          ]
        }
      ]
    },
    {
      "cell_type": "code",
      "source": [
        "# The model correctly predicts the next letter\n",
        "y_letter = text_vec_layer.get_vocabulary()[y_pred.numpy()]\n",
        "print(f'Predicted letter: {y_letter}')"
      ],
      "metadata": {
        "id": "xa-pyvNdtkgn",
        "colab": {
          "base_uri": "https://localhost:8080/"
        },
        "outputId": "106150fa-a248-4a79-fab3-f583d651023d"
      },
      "execution_count": 16,
      "outputs": [
        {
          "output_type": "stream",
          "name": "stdout",
          "text": [
            "Predicted letter: e\n"
          ]
        }
      ]
    },
    {
      "cell_type": "code",
      "source": [
        "# To predict more than individual letters we use the following function\n",
        "def predict_next_letter(text):\n",
        "  y_probability = deploy_model.predict(tf.constant([text]), verbose=0)[0,-1]\n",
        "  y_pred = tf.argmax(y_probability, axis=-1)\n",
        "  return text_vec_layer.get_vocabulary()[y_pred.numpy()]"
      ],
      "metadata": {
        "id": "kRRQsLUzvMKk"
      },
      "execution_count": 17,
      "outputs": []
    },
    {
      "cell_type": "code",
      "source": [
        "def generate_text(text, n_chars=100):\n",
        "  for _ in range(n_chars):\n",
        "    text += predict_next_letter(text)\n",
        "  return text"
      ],
      "metadata": {
        "id": "OfuJCgbWwBTH"
      },
      "execution_count": 18,
      "outputs": []
    },
    {
      "cell_type": "code",
      "source": [
        "# Note that this generates the same words over and over\n",
        "print(generate_text('To be or not to b'))"
      ],
      "metadata": {
        "id": "HNTl76yzwRd4",
        "colab": {
          "base_uri": "https://localhost:8080/"
        },
        "outputId": "acb4675f-77d9-4681-d01a-ce8474c97eeb"
      },
      "execution_count": 19,
      "outputs": [
        {
          "output_type": "stream",
          "name": "stdout",
          "text": [
            "To be or not to be so stands the sea\n",
            "me to the seat and leave the seat and man\n",
            "that the seat and leave the seat and m\n"
          ]
        }
      ]
    },
    {
      "cell_type": "code",
      "source": [
        "# To get more variation, we can sample from the resulting\n",
        "# probability distribution rather than taking the most likely\n",
        "# element\n",
        "def sample_next_letter(text):\n",
        "  y_probability = deploy_model.predict(tf.constant([text]), verbose=0)[0,-1:]\n",
        "  y_pred = tf.random.categorical(tf.math.log(y_probability), num_samples=1)[0,0]\n",
        "  return text_vec_layer.get_vocabulary()[y_pred.numpy()]\n",
        "\n",
        "def generate_text(text, n_chars=500):\n",
        "  for _ in range(n_chars):\n",
        "    text += sample_next_letter(text)\n",
        "  return text"
      ],
      "metadata": {
        "id": "XPuTGCq31tuA"
      },
      "execution_count": 20,
      "outputs": []
    },
    {
      "cell_type": "code",
      "source": [
        "print(generate_text('To be or not to b'))"
      ],
      "metadata": {
        "id": "xS_bbG_a19tn",
        "colab": {
          "base_uri": "https://localhost:8080/"
        },
        "outputId": "ccd336be-e81d-417d-9408-e9cc3f378a22"
      },
      "execution_count": 21,
      "outputs": [
        {
          "output_type": "stream",
          "name": "stdout",
          "text": [
            "To be or not to be a subcle,\n",
            "these the sealchabour, on, and yet a word;\n",
            "and guess by burnar?\n",
            "\n",
            "julien:\n",
            "man: no common mother was seek it shall you die, we by.\n",
            "\n",
            "romeo:\n",
            "who come you this was hard to your lives not, none:\n",
            "he i speak this the earther serving\n",
            "to fairs me with heaven shall. fearness, my begoistres on him.\n",
            "ah, welcome dear arm, are not her father;\n",
            "'tis not's blood of yet, but gentlemen, even now:\n",
            "and that i breath, talke here; an hose bawd\n",
            "as it die to please me all of i\n",
            "hopes! this hate time to heir ou\n"
          ]
        }
      ]
    }
  ]
}